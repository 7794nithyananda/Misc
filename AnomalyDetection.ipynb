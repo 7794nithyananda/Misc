{
 "cells": [
  {
   "cell_type": "markdown",
   "metadata": {},
   "source": [
    "###  References\n",
    "#### dataset used http://odds.cs.stonybrook.edu/http-kddcup99-dataset/\n",
    "#### we can download link https://www.dropbox.com/s/iy9ucsifal754tp/http.mat?dl=0\n",
    "#### or it is available in sklean datasets\n",
    "#### https://github.com/scikit-learn/scikit-learn/blob/master/benchmarks/bench_isolation_forest.py\n",
    "#### https://github.com/scikit-learn/scikit-learn/blob/master/benchmarks/bench_lof.py\n",
    "#### https://scikit-learn.org/stable/auto_examples/plot_anomaly_comparison.html#sphx-glr-auto-examples-plot-anomaly-comparison-py"
   ]
  },
  {
   "cell_type": "code",
   "execution_count": 1,
   "metadata": {},
   "outputs": [
    {
     "name": "stdout",
     "output_type": "stream",
     "text": [
      "(58725,)\n",
      "(58725, 3)\n",
      "[[-2.3025850929940455 5.403127730900382 6.9364399128420455]\n",
      " [-2.3025850929940455 5.288771953704505 8.697696429403408]\n",
      " [-2.3025850929940455 5.263208189434469 9.883442995977424]\n",
      " ...\n",
      " [-2.3025850929940455 5.420977379283924 7.114850745874739]\n",
      " [-2.3025850929940455 5.781052110147502 8.009396309710256]\n",
      " [-2.3025850929940455 5.513831890697755 7.031829594084064]]\n",
      "[b'normal.' b'normal.' b'normal.' ... b'normal.' b'normal.' b'normal.']\n"
     ]
    }
   ],
   "source": [
    "#will load the kddcup99 dataset; \n",
    "#it returns a dictionary-like object with the feature matrix in the data member and the target values in \n",
    "from sklearn import datasets\n",
    "import sklearn\n",
    "import numpy as np\n",
    "from sklearn.ensemble import IsolationForest\n",
    "import matplotlib.pyplot as plt\n",
    "from sklearn.neighbors import LocalOutlierFactor\n",
    "\n",
    "\n",
    "data = datasets.fetch_kddcup99(subset='http', data_home=None, shuffle=True, random_state=1, percent10=True, download_if_missing=True)\n",
    "print(data.target.shape) #, (58725,)) \n",
    "print(data.data.shape) #, (58725, 3)) \n",
    "X = data.data\n",
    "y = data.target\n",
    "print(X)\n",
    "print(y)"
   ]
  },
  {
   "cell_type": "code",
   "execution_count": 2,
   "metadata": {},
   "outputs": [
    {
     "name": "stdout",
     "output_type": "stream",
     "text": [
      "[b'back.' b'ipsweep.' b'normal.' b'phf.' b'satan.']\n"
     ]
    }
   ],
   "source": [
    "uniq, cnt = np.unique(y, return_counts=True)\n",
    "print(uniq) #[b'back.' b'ipsweep.' b'normal.' b'phf.' b'satan.']"
   ]
  },
  {
   "cell_type": "code",
   "execution_count": 3,
   "metadata": {},
   "outputs": [
    {
     "name": "stdout",
     "output_type": "stream",
     "text": [
      "Count values of different values of y: \n",
      "b'back.' occurs 2203 times\n",
      "b'ipsweep.' occurs 1 times\n",
      "b'normal.' occurs 56516 times\n",
      "b'phf.' occurs 4 times\n",
      "b'satan.' occurs 1 times\n",
      "Minimum count is 1\n",
      "Outlier ratio: 0.00002\n"
     ]
    }
   ],
   "source": [
    "# Print ration of outliers\n",
    "print(\"Count values of different values of y: \")\n",
    "for u, c in zip(uniq, cnt):\n",
    "    print(str(u) + \" occurs \"  + str(c) + \" times\")\n",
    "print(\"Minimum count is \" + str(np.min(cnt)))\n",
    "print(\"Outlier ratio: %.5f\" % (np.min(cnt) / len(y)))"
   ]
  },
  {
   "cell_type": "code",
   "execution_count": 4,
   "metadata": {},
   "outputs": [
    {
     "name": "stdout",
     "output_type": "stream",
     "text": [
      "Converting y values string to int\n",
      "[b'normal.' b'normal.' b'normal.' ... b'normal.' b'normal.' b'normal.']\n",
      "[0 0 0 ... 0 0 0]\n"
     ]
    }
   ],
   "source": [
    "print('Converting y values string to int')\n",
    "print(y)\n",
    "y = (y != b'normal.').astype(int)\n",
    "print(y)"
   ]
  },
  {
   "cell_type": "code",
   "execution_count": 5,
   "metadata": {},
   "outputs": [],
   "source": [
    "\n",
    "n_samples, n_features = X.shape\n",
    "n_samples_train = n_samples // 2\n",
    "\n",
    "X = X.astype(float)\n",
    "X_train = X[:n_samples_train, :]\n",
    "X_test = X[n_samples_train:, :]\n",
    "y_train = y[:n_samples_train]\n",
    "y_test = y[n_samples_train:]\n",
    "\n",
    "#Init signature: IsolationForest(n_estimators=100, max_samples='auto', contamination=0.1, max_features=1.0, bootstrap=False, n_jobs=1, random_state=None, verbose=0)\n",
    "model = IsolationForest(n_jobs=-1, random_state=1)\n",
    "model.fit(X_train)\n",
    "#Average anomaly score of X_test of the base classifiers.\n",
    "#The anomaly score of the input samples. \n",
    "#The lower, the more abnormal. Negative scores represent outliers, positive scores represent inliers.\n",
    "#The measure of normality of an observation given a tree is the depth\n",
    "#of the leaf containing this observation, which is equivalent to the number of \n",
    "#splittings required to isolate this point. In case of several observations n_left \n",
    "#in the leaf, the average path length of a n_left samples isolation tree is added.\n",
    "scoring = - model.decision_function(X_test)  # the lower, the more abnormal"
   ]
  },
  {
   "cell_type": "code",
   "execution_count": 6,
   "metadata": {},
   "outputs": [
    {
     "name": "stdout",
     "output_type": "stream",
     "text": [
      "[-0.07091221 -0.09750974  0.12411106 ... -0.10550414 -0.09547568\n",
      " -0.10415048]\n",
      "<class 'numpy.ndarray'>\n",
      "(29363,)\n",
      "-0.1226300766346547\n",
      "0.237234713809109\n"
     ]
    }
   ],
   "source": [
    "print(scoring)\n",
    "print(type(scoring)) # <class 'numpy.ndarray'>\n",
    "print((scoring.shape)) # (29363,)\n",
    "print(np.min(scoring)) # -0.11868186700510863\n",
    "print(np.max(scoring)) # 0.24705772554385952"
   ]
  },
  {
   "cell_type": "code",
   "execution_count": 7,
   "metadata": {},
   "outputs": [
    {
     "data": {
      "image/png": "[encoded data removed]",
      "text/plain": [
       "<Figure size 432x288 with 1 Axes>"
      ]
     },
     "metadata": {},
     "output_type": "display_data"
    },
    {
     "data": {
      "image/png": "[encoded data removed]",
      "text/plain": [
       "<Figure size 432x288 with 1 Axes>"
      ]
     },
     "metadata": {},
     "output_type": "display_data"
    },
    {
     "data": {
      "image/png": "[encoded data removed]",
      "text/plain": [
       "<Figure size 432x288 with 1 Axes>"
      ]
     },
     "metadata": {},
     "output_type": "display_data"
    }
   ],
   "source": [
    "bins = np.linspace(-0.5, 0.5, 200)\n",
    "plt.hist(scoring, bins, color='black')\n",
    "plt.title('http dataset scoring')\n",
    "plt.xlim(xmin=-0.15, xmax=0.25)\n",
    "plt.ylim(ymin=0, ymax=3000)\n",
    "plt.show()\n",
    "\n",
    "\n",
    "plt.hist(scoring[y_test == 0], bins, color='b', label='normal data')\n",
    "plt.title('normal data in http dataset')\n",
    "plt.xlim(xmin=-0.15, xmax=0.25)\n",
    "plt.ylim(ymin=0, ymax=3000)\n",
    "plt.show()\n",
    "\n",
    "\n",
    "plt.hist(scoring[y_test == 1], bins, color='r', label='true anomalies')\n",
    "plt.title('Real Anmalies in http dataset')\n",
    "plt.xlim(xmin=-0.15, xmax=0.25)\n",
    "plt.ylim(ymin=0, ymax=3000)\n",
    "plt.show()### Scores > 0.10 could be anomalies in the above case"
   ]
  },
  {
   "cell_type": "markdown",
   "metadata": {},
   "source": [
    "### Scores > 0.10 could be anomalies in the above case"
   ]
  },
  {
   "cell_type": "code",
   "execution_count": 8,
   "metadata": {},
   "outputs": [
    {
     "name": "stdout",
     "output_type": "stream",
     "text": [
      "LocalOutlierFactor Model\n"
     ]
    }
   ],
   "source": [
    "print('LocalOutlierFactor Model')\n",
    "model = LocalOutlierFactor(n_neighbors=20)\n",
    "model.fit(X)\n",
    "scoring = -model.negative_outlier_factor_  # the lower, the more normal"
   ]
  },
  {
   "cell_type": "code",
   "execution_count": 9,
   "metadata": {},
   "outputs": [
    {
     "name": "stdout",
     "output_type": "stream",
     "text": [
      "LocalOutlierFactor(algorithm='auto', contamination=0.1, leaf_size=30,\n",
      "          metric='minkowski', metric_params=None, n_jobs=1, n_neighbors=20,\n",
      "          p=2)\n"
     ]
    }
   ],
   "source": [
    "print(model)"
   ]
  },
  {
   "cell_type": "code",
   "execution_count": 10,
   "metadata": {},
   "outputs": [
    {
     "name": "stdout",
     "output_type": "stream",
     "text": [
      "[1.04905485 1.02653943 1.09042679 ... 0.99355766 0.98255867 1.09329962]\n",
      "<class 'numpy.ndarray'>\n",
      "(58725,)\n",
      "0.8920501236120149\n",
      "38546784783.09825\n",
      "(56516,)\n",
      "(2209,)\n"
     ]
    }
   ],
   "source": [
    "print(scoring)\n",
    "print(type(scoring))\n",
    "print((scoring.shape)) # (58725,)\n",
    "print(np.min(scoring)) # 0.8920501236120149\n",
    "print(np.max(scoring)) # 38546784783.09825\n",
    "#print(y)\n",
    "print(scoring[y == 0].shape)\n",
    "print(scoring[y == 1].shape)"
   ]
  },
  {
   "cell_type": "markdown",
   "metadata": {},
   "source": [
    "#### In most of the graphs below, real anomalies (red color)  have high score according to our model"
   ]
  },
  {
   "cell_type": "code",
   "execution_count": 11,
   "metadata": {},
   "outputs": [
    {
     "name": "stdout",
     "output_type": "stream",
     "text": [
      "374\n",
      "9626\n"
     ]
    },
    {
     "data": {
      "image/png": "[encoded data removed]",
      "text/plain": [
       "<Figure size 432x288 with 1 Axes>"
      ]
     },
     "metadata": {},
     "output_type": "display_data"
    }
   ],
   "source": [
    "min_limit = 0\n",
    "max_limit = 10000\n",
    "x1 = []\n",
    "y1 = []\n",
    "x2 = []\n",
    "y2 = []\n",
    "for i in range(min_limit,max_limit):\n",
    "    if y[i] == 1:\n",
    "        x1.append(i)\n",
    "        y1.append(scoring[i])\n",
    "    if y[i] == 0: # normal data\n",
    "        x2.append(i) \n",
    "        y2.append(scoring[i])\n",
    "        \n",
    "print(len(x1))\n",
    "print(len(x2))\n",
    "nrow = list(range(min_limit,max_limit))\n",
    "plt.plot(x1, y1, 'rs', x2, y2, 'bs')\n",
    "plt.title('http dataset - red colored are real anomalies')\n",
    "plt.show()"
   ]
  },
  {
   "cell_type": "code",
   "execution_count": 12,
   "metadata": {},
   "outputs": [
    {
     "name": "stdout",
     "output_type": "stream",
     "text": [
      "372\n",
      "9628\n"
     ]
    },
    {
     "data": {
      "image/png": "[encoded data removed]",
      "text/plain": [
       "<Figure size 432x288 with 1 Axes>"
      ]
     },
     "metadata": {},
     "output_type": "display_data"
    }
   ],
   "source": [
    "min_limit = 10000\n",
    "max_limit = 20000\n",
    "x1 = []\n",
    "y1 = []\n",
    "x2 = []\n",
    "y2 = []\n",
    "for i in range(min_limit,max_limit):\n",
    "    if y[i] == 1:\n",
    "        x1.append(i)\n",
    "        y1.append(scoring[i])\n",
    "    if y[i] == 0: # normal data\n",
    "        x2.append(i) \n",
    "        y2.append(scoring[i])\n",
    "        \n",
    "print(len(x1))\n",
    "print(len(x2))\n",
    "nrow = list(range(min_limit,max_limit))\n",
    "plt.plot(x1, y1, 'rs', x2, y2, 'bs')\n",
    "plt.title('http dataset - red colored are real anomalies')\n",
    "plt.show()"
   ]
  },
  {
   "cell_type": "code",
   "execution_count": 13,
   "metadata": {},
   "outputs": [
    {
     "name": "stdout",
     "output_type": "stream",
     "text": [
      "376\n",
      "9624\n"
     ]
    },
    {
     "data": {
      "image/png": "[encoded data removed]",
      "text/plain": [
       "<Figure size 432x288 with 1 Axes>"
      ]
     },
     "metadata": {},
     "output_type": "display_data"
    }
   ],
   "source": [
    "min_limit = 20000\n",
    "max_limit = 30000\n",
    "x1 = []\n",
    "y1 = []\n",
    "x2 = []\n",
    "y2 = []\n",
    "for i in range(min_limit,max_limit):\n",
    "    if y[i] == 1:\n",
    "        x1.append(i)\n",
    "        y1.append(scoring[i])\n",
    "    if y[i] == 0: # normal data\n",
    "        x2.append(i) \n",
    "        y2.append(scoring[i])\n",
    "        \n",
    "print(len(x1))\n",
    "print(len(x2))\n",
    "nrow = list(range(min_limit,max_limit))\n",
    "plt.plot(x1, y1, 'rs', x2, y2, 'bs')\n",
    "plt.title('http dataset - red colored are real anomalies')\n",
    "plt.show()"
   ]
  },
  {
   "cell_type": "code",
   "execution_count": 14,
   "metadata": {},
   "outputs": [
    {
     "name": "stdout",
     "output_type": "stream",
     "text": [
      "399\n",
      "9601\n"
     ]
    },
    {
     "data": {
      "image/png": "[encoded data removed]",
      "text/plain": [
       "<Figure size 432x288 with 1 Axes>"
      ]
     },
     "metadata": {},
     "output_type": "display_data"
    }
   ],
   "source": [
    "min_limit = 30000\n",
    "max_limit = 40000\n",
    "x1 = []\n",
    "y1 = []\n",
    "x2 = []\n",
    "y2 = []\n",
    "for i in range(min_limit,max_limit):\n",
    "    if y[i] == 1:\n",
    "        x1.append(i)\n",
    "        y1.append(scoring[i])\n",
    "    if y[i] == 0: # normal data\n",
    "        x2.append(i) \n",
    "        y2.append(scoring[i])\n",
    "        \n",
    "print(len(x1))\n",
    "print(len(x2))\n",
    "nrow = list(range(min_limit,max_limit))\n",
    "plt.plot(x1, y1, 'rs', x2, y2, 'bs')\n",
    "plt.title('http dataset - red colored are real anomalies')\n",
    "plt.show()"
   ]
  },
  {
   "cell_type": "code",
   "execution_count": 15,
   "metadata": {},
   "outputs": [
    {
     "name": "stdout",
     "output_type": "stream",
     "text": [
      "372\n",
      "9628\n"
     ]
    },
    {
     "data": {
      "image/png": "[encoded data removed]",
      "text/plain": [
       "<Figure size 432x288 with 1 Axes>"
      ]
     },
     "metadata": {},
     "output_type": "display_data"
    }
   ],
   "source": [
    "min_limit = 40000\n",
    "max_limit = 50000\n",
    "x1 = []\n",
    "y1 = []\n",
    "x2 = []\n",
    "y2 = []\n",
    "for i in range(min_limit,max_limit):\n",
    "    if y[i] == 1:\n",
    "        x1.append(i)\n",
    "        y1.append(scoring[i])\n",
    "    if y[i] == 0: # normal data\n",
    "        x2.append(i) \n",
    "        y2.append(scoring[i])\n",
    "        \n",
    "print(len(x1))\n",
    "print(len(x2))\n",
    "nrow = list(range(min_limit,max_limit))\n",
    "plt.plot(x1, y1, 'rs', x2, y2, 'bs')\n",
    "plt.title('http dataset - red colored are real anomalies')\n",
    "plt.show()"
   ]
  },
  {
   "cell_type": "code",
   "execution_count": 16,
   "metadata": {},
   "outputs": [
    {
     "name": "stdout",
     "output_type": "stream",
     "text": [
      "316\n",
      "8409\n"
     ]
    },
    {
     "data": {
      "image/png": "[encoded data removed]",
      "text/plain": [
       "<Figure size 432x288 with 1 Axes>"
      ]
     },
     "metadata": {},
     "output_type": "display_data"
    }
   ],
   "source": [
    "min_limit = 50000\n",
    "max_limit = 58725\n",
    "x1 = []\n",
    "y1 = []\n",
    "x2 = []\n",
    "y2 = []\n",
    "for i in range(min_limit,max_limit):\n",
    "    if y[i] == 1:\n",
    "        x1.append(i)\n",
    "        y1.append(scoring[i])\n",
    "    if y[i] == 0: # normal data\n",
    "        x2.append(i) \n",
    "        y2.append(scoring[i])\n",
    "        \n",
    "print(len(x1))\n",
    "print(len(x2))\n",
    "nrow = list(range(min_limit,max_limit))\n",
    "plt.plot(x1, y1, 'rs', x2, y2, 'bs')\n",
    "plt.title('http dataset - red colored are real anomalies')\n",
    "plt.show()"
   ]
  },
  {
   "cell_type": "code",
   "execution_count": 17,
   "metadata": {},
   "outputs": [],
   "source": [
    "from sklearn.neighbors import NearestNeighbors\n",
    "neigh = NearestNeighbors(n_neighbors=3)\n",
    "neigh.fit(X) \n",
    "knn_graph = neigh.kneighbors_graph(X)\n",
    "#print(knn_graph)\n",
    "#A : sparse matrix in CSR format, shape = [n_samples, n_samples]\n",
    "#A[i, j] is assigned the weight of edge that connects i to j."
   ]
  }
 ],
 "metadata": {
  "kernelspec": {
   "display_name": "Python 3",
   "language": "python",
   "name": "python3"
  },
  "language_info": {
   "codemirror_mode": {
    "name": "ipython",
    "version": 3
   },
   "file_extension": ".py",
   "mimetype": "text/x-python",
   "name": "python",
   "nbconvert_exporter": "python",
   "pygments_lexer": "ipython3",
   "version": "3.6.5"
  }
 },
 "nbformat": 4,
 "nbformat_minor": 2
}
